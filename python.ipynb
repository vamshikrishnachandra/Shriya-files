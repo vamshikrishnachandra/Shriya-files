{
 "cells": [
  {
   "cell_type": "code",
   "execution_count": 1,
   "metadata": {},
   "outputs": [],
   "source": [
    "#If Syntax \n",
    "# if Condition:\n",
    "#    Block of Code//Conditonal Block\n",
    " "
   ]
  },
  {
   "cell_type": "code",
   "execution_count": 4,
   "metadata": {},
   "outputs": [],
   "source": [
    "#Ex:\n",
    "a = \"Sunday\"\n",
    "if (a==\"Sunday\"):\n",
    "    print(\"Today is Holiday\")\n",
    "    print(\"Sunday\")"
   ]
  },
  {
   "cell_type": "code",
   "execution_count": null,
   "metadata": {},
   "outputs": [],
   "source": [
    "#If Else \n",
    "# if Condition:\n",
    "    # Block of code //Conditonal Block\n",
    "# else:\n",
    "    # block of code"
   ]
  },
  {
   "cell_type": "code",
   "execution_count": 5,
   "metadata": {},
   "outputs": [
    {
     "name": "stdout",
     "output_type": "stream",
     "text": [
      "today is not a holiday\n"
     ]
    }
   ],
   "source": [
    "a = \"Monday\"\n",
    "if (a==\"Sunday\"):\n",
    "    print(\"Today is Holiday\")\n",
    "else:\n",
    "    print(\"today is not a holiday\")"
   ]
  },
  {
   "cell_type": "code",
   "execution_count": 7,
   "metadata": {},
   "outputs": [
    {
     "name": "stdout",
     "output_type": "stream",
     "text": [
      "Not Positive\n",
      "End\n"
     ]
    }
   ],
   "source": [
    "a = int(input())\n",
    "if a > 0:  \n",
    "    print(\"Positive\")  \n",
    "else:  \n",
    "    print(\"Not Positive\")  \n",
    "print(\"End\")"
   ]
  },
  {
   "cell_type": "code",
   "execution_count": null,
   "metadata": {},
   "outputs": [],
   "source": [
    "#Syntax \n",
    "#if Condition:\n",
    "    #if Condition:\n",
    "        # block of Code\n"
   ]
  },
  {
   "cell_type": "code",
   "execution_count": 11,
   "metadata": {},
   "outputs": [
    {
     "name": "stdout",
     "output_type": "stream",
     "text": [
      "Hurray\n",
      "Winner\n"
     ]
    }
   ],
   "source": [
    "matches_won = 9\n",
    "goals = 21\n",
    "if matches_won > 8:#false\n",
    "    if goals > 20:#false\n",
    "        print(\"Hurray\")\n",
    "    print(\"Winner\")"
   ]
  },
  {
   "cell_type": "code",
   "execution_count": null,
   "metadata": {},
   "outputs": [],
   "source": [
    "#Syntax\n",
    "#if Condition:\n",
    "    #block of code \n",
    "#else:\n",
    "    # if Condition:\n",
    "        # block of code"
   ]
  },
  {
   "cell_type": "code",
   "execution_count": 12,
   "metadata": {},
   "outputs": [
    {
     "name": "stdout",
     "output_type": "stream",
     "text": [
      "3\n"
     ]
    }
   ],
   "source": [
    "a = 2\n",
    "b = 3\n",
    "c = 1\n",
    "is_a_greatest = (a > b) and (a > c)\n",
    "if is_a_greatest:#true\n",
    "    print(a)#print this\n",
    "else:\n",
    "    is_b_greatest = (b > c)\n",
    "    if is_b_greatest:\n",
    "        print(b)\n",
    "    else:\n",
    "        print(c)"
   ]
  },
  {
   "cell_type": "code",
   "execution_count": null,
   "metadata": {},
   "outputs": [],
   "source": [
    "#Syntax\n",
    "#if Condition:\n",
    "    #block of code\n",
    "#elif Condition:\n",
    "    #block of code \n",
    "#we can n number of elif blocks\n",
    "#else:\n",
    "    #else block\n",
    "    #else block is optional"
   ]
  },
  {
   "cell_type": "code",
   "execution_count": 13,
   "metadata": {},
   "outputs": [
    {
     "name": "stdout",
     "output_type": "stream",
     "text": [
      "Divisible by 5\n"
     ]
    }
   ],
   "source": [
    "number = 5\n",
    "is_divisible_by_10 = (number % 10 == 0)\n",
    "is_divisible_by_5 = (number % 5 == 0)\n",
    "if is_divisible_by_10:\n",
    "    print(\"Divisible by 10\")\n",
    "elif is_divisible_by_5:\n",
    "    print(\"Divisible by 5\")\n",
    "else:\n",
    "   print(\"Not Divisible by 10 or 5\")"
   ]
  },
  {
   "cell_type": "code",
   "execution_count": 23,
   "metadata": {},
   "outputs": [
    {
     "name": "stdout",
     "output_type": "stream",
     "text": [
      "1\n",
      "2\n",
      "3\n",
      "4\n",
      "5\n",
      "6\n",
      "7\n",
      "8\n",
      "9\n",
      "10\n"
     ]
    }
   ],
   "source": [
    "a = 10 \n",
    "start = 1 #Initaialization\n",
    "while (start<11):#while Condition:\n",
    "    print(start)#Block of code \n",
    "    start += 1 #updation"
   ]
  },
  {
   "cell_type": "code",
   "execution_count": null,
   "metadata": {},
   "outputs": [],
   "source": []
  }
 ],
 "metadata": {
  "kernelspec": {
   "display_name": "Python 3",
   "language": "python",
   "name": "python3"
  },
  "language_info": {
   "codemirror_mode": {
    "name": "ipython",
    "version": 3
   },
   "file_extension": ".py",
   "mimetype": "text/x-python",
   "name": "python",
   "nbconvert_exporter": "python",
   "pygments_lexer": "ipython3",
   "version": "3.11.2"
  }
 },
 "nbformat": 4,
 "nbformat_minor": 2
}
